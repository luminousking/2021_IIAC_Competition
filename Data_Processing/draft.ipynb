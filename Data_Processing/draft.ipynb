{
 "cells": [
  {
   "cell_type": "code",
   "execution_count": 2,
   "source": [
    "# data analysis\r\n",
    "import xlrd\r\n",
    "import pandas as pd\r\n",
    "import numpy as np\r\n",
    "import random as rnd\r\n",
    "\r\n",
    "# visulization \r\n",
    "import seaborn as sns\r\n",
    "import matplotlib.pyplot as plt\r\n",
    "import matplotlib.dates as mdates\r\n",
    "%matplotlib inline\r\n",
    "\r\n",
    "# data processing\r\n",
    "from sklearn import preprocessing"
   ],
   "outputs": [],
   "metadata": {}
  },
  {
   "cell_type": "code",
   "execution_count": 3,
   "source": [
    "df1 = pd.read_excel(r'C:\\Users\\Luminous Isaac\\Documents\\GitHub\\2021_IIAC_Competition\\Data_Processing\\Related_Data\\tsdata_equal.xlsx')\r\n",
    "group = df1.groupby('ID').count()\r\n",
    "\r\n",
    "df2 = pd.read_excel(r'C:\\Users\\Luminous Isaac\\Documents\\GitHub\\2021_IIAC_Competition\\Data_Processing\\numbdata_2.xlsx')\r\n",
    "\r\n",
    "a = 0"
   ],
   "outputs": [],
   "metadata": {}
  },
  {
   "cell_type": "code",
   "execution_count": 4,
   "source": [
    "group['工件编号'].to_csv('ss.csv')"
   ],
   "outputs": [],
   "metadata": {}
  },
  {
   "cell_type": "code",
   "execution_count": 5,
   "source": [
    "df = pd.read_csv('index.csv')"
   ],
   "outputs": [],
   "metadata": {}
  },
  {
   "cell_type": "code",
   "execution_count": 6,
   "source": [
    "df['ID'][0]"
   ],
   "outputs": [
    {
     "output_type": "execute_result",
     "data": {
      "text/plain": [
       "210625"
      ]
     },
     "metadata": {},
     "execution_count": 6
    }
   ],
   "metadata": {}
  },
  {
   "cell_type": "code",
   "execution_count": 7,
   "source": [
    "df3 = pd.read_csv('index.csv')\r\n",
    "len(df3)"
   ],
   "outputs": [
    {
     "output_type": "execute_result",
     "data": {
      "text/plain": [
       "167"
      ]
     },
     "metadata": {},
     "execution_count": 7
    }
   ],
   "metadata": {}
  },
  {
   "cell_type": "code",
   "execution_count": 8,
   "source": [
    "df3['ID'][0]"
   ],
   "outputs": [
    {
     "output_type": "execute_result",
     "data": {
      "text/plain": [
       "210625"
      ]
     },
     "metadata": {},
     "execution_count": 8
    }
   ],
   "metadata": {}
  },
  {
   "cell_type": "code",
   "execution_count": 9,
   "source": [
    "df4 = df2['中部跳动']"
   ],
   "outputs": [],
   "metadata": {}
  },
  {
   "cell_type": "code",
   "execution_count": 10,
   "source": [
    "df4.describe()"
   ],
   "outputs": [
    {
     "output_type": "execute_result",
     "data": {
      "text/plain": [
       "count    167.000000\n",
       "mean       0.323497\n",
       "std        0.149743\n",
       "min        0.055000\n",
       "25%        0.212500\n",
       "50%        0.300000\n",
       "75%        0.425000\n",
       "max        0.792000\n",
       "Name: 中部跳动, dtype: float64"
      ]
     },
     "metadata": {},
     "execution_count": 10
    }
   ],
   "metadata": {}
  },
  {
   "cell_type": "code",
   "execution_count": 11,
   "source": [
    "df5 = df2['Q处跳动']"
   ],
   "outputs": [],
   "metadata": {}
  },
  {
   "cell_type": "code",
   "execution_count": 12,
   "source": [
    "df5.describe()"
   ],
   "outputs": [
    {
     "output_type": "execute_result",
     "data": {
      "text/plain": [
       "count    167.000000\n",
       "mean       0.244437\n",
       "std        0.104907\n",
       "min        0.060000\n",
       "25%        0.164500\n",
       "50%        0.229000\n",
       "75%        0.316000\n",
       "max        0.638000\n",
       "Name: Q处跳动, dtype: float64"
      ]
     },
     "metadata": {},
     "execution_count": 12
    }
   ],
   "metadata": {}
  },
  {
   "cell_type": "code",
   "execution_count": null,
   "source": [],
   "outputs": [],
   "metadata": {}
  }
 ],
 "metadata": {
  "orig_nbformat": 4,
  "language_info": {
   "name": "python",
   "version": "3.7.10",
   "mimetype": "text/x-python",
   "codemirror_mode": {
    "name": "ipython",
    "version": 3
   },
   "pygments_lexer": "ipython3",
   "nbconvert_exporter": "python",
   "file_extension": ".py"
  },
  "kernelspec": {
   "name": "python3",
   "display_name": "Python 3.7.10 64-bit ('pytorch': conda)"
  },
  "interpreter": {
   "hash": "027839643d7998ffd6fa0c5ab1b88f63a5e12fd36b4c0b9396bb75f20e620ca3"
  }
 },
 "nbformat": 4,
 "nbformat_minor": 2
}