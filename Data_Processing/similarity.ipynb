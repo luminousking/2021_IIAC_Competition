# -*- coding: utf-8 -*-
"""
Created on Mon Aug  9 14:24:00 2021

@author: Luminous Isaac
"""

