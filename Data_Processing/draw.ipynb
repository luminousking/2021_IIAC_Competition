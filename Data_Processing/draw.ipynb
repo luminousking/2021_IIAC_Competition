{
 "cells": [
  {
   "cell_type": "code",
   "execution_count": 2,
   "source": [
    "# data analysis\r\n",
    "import xlrd\r\n",
    "import pandas as pd\r\n",
    "import numpy as np\r\n",
    "import random as rnd\r\n",
    "\r\n",
    "# visulization \r\n",
    "import seaborn as sns\r\n",
    "import matplotlib.pyplot as plt\r\n",
    "%matplotlib inline\r\n",
    "\r\n",
    "# data processing\r\n",
    "from sklearn import preprocessing"
   ],
   "outputs": [],
   "metadata": {}
  },
  {
   "cell_type": "code",
   "execution_count": 3,
   "source": [
    "df = pd.read_excel('tsdata_2.xlsx')"
   ],
   "outputs": [],
   "metadata": {}
  },
  {
   "cell_type": "code",
   "execution_count": 4,
   "source": [
    "grouped = df.groupby('ID')"
   ],
   "outputs": [],
   "metadata": {}
  },
  {
   "cell_type": "code",
   "execution_count": 5,
   "source": [
    "for i in range(210625,210849):\r\n",
    "    dfx = grouped.get_group(i) #.to_csv('test1.csv',encoding='utf_8_sig'\r\n",
    "    break\r\n",
    "    "
   ],
   "outputs": [],
   "metadata": {}
  },
  {
   "cell_type": "code",
   "execution_count": 6,
   "source": [
    "print(dfx.columns[1])"
   ],
   "outputs": [
    {
     "output_type": "stream",
     "name": "stdout",
     "text": [
      "工件编号\n"
     ]
    }
   ],
   "metadata": {}
  },
  {
   "cell_type": "code",
   "execution_count": 7,
   "source": [
    "dfx[dfx.columns[1]]"
   ],
   "outputs": [
    {
     "output_type": "execute_result",
     "data": {
      "text/plain": [
       "0      210625\n",
       "1           0\n",
       "2           0\n",
       "3           0\n",
       "4           0\n",
       "        ...  \n",
       "207         0\n",
       "208         0\n",
       "209         0\n",
       "210         0\n",
       "211         0\n",
       "Name: 工件编号, Length: 212, dtype: int64"
      ]
     },
     "metadata": {},
     "execution_count": 7
    }
   ],
   "metadata": {}
  },
  {
   "cell_type": "code",
   "execution_count": 8,
   "source": [
    "for i in range(2,10):\r\n",
    "    df2 = dfx[dfx.columns[i]]\r\n",
    "    break"
   ],
   "outputs": [],
   "metadata": {}
  },
  {
   "cell_type": "code",
   "execution_count": 9,
   "source": [
    "dfx.index"
   ],
   "outputs": [
    {
     "output_type": "execute_result",
     "data": {
      "text/plain": [
       "Int64Index([  0,   1,   2,   3,   4,   5,   6,   7,   8,   9,\n",
       "            ...\n",
       "            202, 203, 204, 205, 206, 207, 208, 209, 210, 211],\n",
       "           dtype='int64', length=212)"
      ]
     },
     "metadata": {},
     "execution_count": 9
    }
   ],
   "metadata": {}
  },
  {
   "cell_type": "code",
   "execution_count": null,
   "source": [],
   "outputs": [],
   "metadata": {}
  }
 ],
 "metadata": {
  "orig_nbformat": 4,
  "language_info": {
   "name": "python",
   "version": "3.7.10",
   "mimetype": "text/x-python",
   "codemirror_mode": {
    "name": "ipython",
    "version": 3
   },
   "pygments_lexer": "ipython3",
   "nbconvert_exporter": "python",
   "file_extension": ".py"
  },
  "kernelspec": {
   "name": "python3",
   "display_name": "Python 3.7.10 64-bit ('pytorch': conda)"
  },
  "interpreter": {
   "hash": "027839643d7998ffd6fa0c5ab1b88f63a5e12fd36b4c0b9396bb75f20e620ca3"
  }
 },
 "nbformat": 4,
 "nbformat_minor": 2
}